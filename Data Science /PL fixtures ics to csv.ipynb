{
 "cells": [
  {
   "cell_type": "code",
   "execution_count": 6,
   "metadata": {},
   "outputs": [],
   "source": [
    "from ics import Calendar\n",
    "import datetime\n",
    "import arrow\n",
    "import csv\n",
    "from urllib.request import urlopen"
   ]
  },
  {
   "cell_type": "code",
   "execution_count": 8,
   "metadata": {},
   "outputs": [],
   "source": [
    "url = 'https://www.skysports.com/calendars/football/fixtures/competitions/premier-league?live=false'  \n",
    "\n",
    "with open('SSDM_footballfixtures26368.ics') as f:\n",
    "    c = Calendar(urlopen(url).read().decode('iso-8859-1'))"
   ]
  },
  {
   "cell_type": "code",
   "execution_count": 16,
   "metadata": {},
   "outputs": [],
   "source": [
    "cols = ['Fixture', 'Date', 'Time']        \n",
    "\n",
    "with open('upcoming_fixtures.csv','w') as out:\n",
    "    csv_out = csv.writer(out)\n",
    "    csv_out.writerow(cols)\n",
    "    for e in c.events:\n",
    "        if e.begin > arrow.now():\n",
    "            csv_out.writerow((e.name, e.begin.date(), e.begin.datetime.time().strftime(\"%H:%M\")))\n",
    "    "
   ]
  },
  {
   "cell_type": "code",
   "execution_count": null,
   "metadata": {},
   "outputs": [],
   "source": []
  }
 ],
 "metadata": {
  "kernelspec": {
   "display_name": "Python 3",
   "language": "python",
   "name": "python3"
  },
  "language_info": {
   "codemirror_mode": {
    "name": "ipython",
    "version": 3
   },
   "file_extension": ".py",
   "mimetype": "text/x-python",
   "name": "python",
   "nbconvert_exporter": "python",
   "pygments_lexer": "ipython3",
   "version": "3.7.3"
  }
 },
 "nbformat": 4,
 "nbformat_minor": 2
}
